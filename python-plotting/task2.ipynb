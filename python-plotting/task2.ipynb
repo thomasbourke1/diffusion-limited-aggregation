{
 "cells": [
  {
   "cell_type": "code",
   "execution_count": 1,
   "metadata": {},
   "outputs": [
    {
     "name": "stderr",
     "output_type": "stream",
     "text": [
      "/Users/thomasbourke/opt/anaconda3/lib/python3.9/site-packages/scipy/__init__.py:146: UserWarning: A NumPy version >=1.16.5 and <1.23.0 is required for this version of SciPy (detected version 1.26.1\n",
      "  warnings.warn(f\"A NumPy version >={np_minversion} and <{np_maxversion}\"\n"
     ]
    }
   ],
   "source": [
    "import numpy as np\n",
    "import matplotlib.pyplot as plt\n",
    "import pandas as pd\n",
    "from scipy.optimize import curve_fit\n",
    "import csv"
   ]
  },
  {
   "cell_type": "code",
   "execution_count": 2,
   "metadata": {},
   "outputs": [],
   "source": [
    "def fractal_sorter(fractal_data):\n",
    "    #convert each set of data to numpy array\n",
    "    rawNumParticles = fractal_data.numParticles.to_numpy()\n",
    "    rawClusterRadius = fractal_data.clusterRadius.to_numpy()\n",
    "\n",
    "\n",
    "    #array of indexes of where a new fractal starts\n",
    "    sliceNum = 10\n",
    "    where_isTen = np.where(rawNumParticles == sliceNum)\n",
    "\n",
    "    #initialise empty array to store each fractal\n",
    "    previousIndex = 0\n",
    "    slicedNumParticles = []\n",
    "    slicedClusterRadius = []\n",
    "\n",
    "    #slices fractal data up\n",
    "    for i in where_isTen[0]:\n",
    "\n",
    "        temp_numParticles = rawNumParticles[previousIndex: i]\n",
    "        temp_ClusterRadius = rawClusterRadius[previousIndex: i]\n",
    "        \n",
    "        slicedNumParticles.append(temp_numParticles)\n",
    "        slicedClusterRadius.append(temp_ClusterRadius)\n",
    "\n",
    "        previousIndex = i\n",
    "        \n",
    "    #appends final fractal data\n",
    "    slicedNumParticles.append(rawNumParticles[previousIndex:])\n",
    "    slicedClusterRadius.append(rawClusterRadius[previousIndex:])\n",
    "\n",
    "    #gets rid of 0th row that was empty\n",
    "    slicedNumParticles = slicedNumParticles[1:]\n",
    "    slicedClusterRadius = slicedClusterRadius[1:]\n",
    "    \n",
    "    return slicedNumParticles, slicedClusterRadius\n",
    "\n",
    "def getAverage(particleList, radiusList):\n",
    "    numFractals = len(particleList)\n",
    "    numValues = len(radiusList[0])\n",
    "    meanSizes = np.zeros(numValues)\n",
    "    meanSquareSizes = np.zeros(numValues)\n",
    "    SizeErrors = np.zeros(numValues)\n",
    "    ln_errors = []\n",
    "    \n",
    "    #calculates average clusterRadius\n",
    "    for i in range(numFractals):\n",
    "        for j in range(numValues):\n",
    "            meanSizes[j] += radiusList[i][j]/numFractals\n",
    "            meanSquareSizes[j] += (radiusList[i][j]**2)/numFractals\n",
    "\n",
    "    for k in range(numValues):\n",
    "        SizeErrors[k] += (1/np.sqrt(numFractals-1)) * np.sqrt(meanSquareSizes[k] - meanSizes[k]**2)\n",
    "        #print(SizeErrors[k])\n",
    "        \n",
    "    for l in range(numValues):\n",
    "        ln_errors.append(SizeErrors[l] / meanSizes[l])\n",
    "            \n",
    "    return meanSizes, ln_errors\n",
    "\n",
    "#create line of best fits to calculate gradient\n",
    "def best_fit(x, slope , intercept):\n",
    "    return slope*x + intercept"
   ]
  },
  {
   "cell_type": "code",
   "execution_count": 24,
   "metadata": {},
   "outputs": [],
   "source": [
    "prob1_data = pd.DataFrame(pd.read_csv(\"data/prob1_data.csv\", dtype=np.float64))\n",
    "\n",
    "#probability = 1 data processed\n",
    "p1_numParticles = fractal_sorter(prob1_data)[0]\n",
    "p1_clusterRadius = fractal_sorter(prob1_data)[1]\n",
    "p1_meanSize = getAverage(p1_numParticles, p1_clusterRadius)[0]\n",
    "\n",
    "p1_ln_numParticles = np.log(p1_numParticles)[0]\n",
    "p1_ln_clusterRadius = np.log(p1_meanSize)\n",
    "p1_clusterRadius_err = getAverage(p1_numParticles, p1_clusterRadius)[1]\n",
    "\n",
    "p1_data = [p1_ln_numParticles, p1_ln_clusterRadius, p1_clusterRadius_err]\n"
   ]
  },
  {
   "cell_type": "code",
   "execution_count": 26,
   "metadata": {},
   "outputs": [],
   "source": [
    "prob075_data = pd.DataFrame(pd.read_csv(\"data/prob075_data.csv\", dtype=np.float64))\n",
    "\n",
    "#probability = 75% data processed\n",
    "p075_numParticles = fractal_sorter(prob075_data)[0]\n",
    "p075_clusterRadius = fractal_sorter(prob075_data)[1]\n",
    "p075_meanSize = getAverage(p075_numParticles, p075_clusterRadius)[0]\n",
    "\n",
    "p075_ln_numParticles = np.log(p075_numParticles)[0]\n",
    "p075_ln_clusterRadius = np.log(p075_meanSize)\n",
    "p075_clusterRadius_err = getAverage(p075_numParticles, p075_clusterRadius)[1]\n",
    "\n",
    "p075_data = [p075_ln_numParticles, p075_ln_clusterRadius, p075_clusterRadius_err]"
   ]
  },
  {
   "cell_type": "code",
   "execution_count": 43,
   "metadata": {},
   "outputs": [],
   "source": [
    "prob050_data = pd.DataFrame(pd.read_csv(\"data/prob050_data.csv\", dtype=np.float64))\n",
    "\n",
    "#probability = 50% data processed\n",
    "p050_numParticles = fractal_sorter(prob050_data)[0]\n",
    "p050_clusterRadius = fractal_sorter(prob050_data)[1]\n",
    "p050_meanSize = getAverage(p050_numParticles, p050_clusterRadius)[0]\n",
    "\n",
    "p050_ln_numParticles = np.log(p050_numParticles)[0]\n",
    "p050_ln_clusterRadius = np.log(p050_meanSize)\n",
    "p050_clusterRadius_err = getAverage(p050_numParticles, p050_clusterRadius)[1]\n"
   ]
  },
  {
   "cell_type": "code",
   "execution_count": 44,
   "metadata": {},
   "outputs": [],
   "source": [
    "prob025_data = pd.DataFrame(pd.read_csv(\"data/prob025_data.csv\", dtype=np.float64))\n",
    "\n",
    "#probability = 50% data processed\n",
    "p025_numParticles = fractal_sorter(prob025_data)[0]\n",
    "p025_clusterRadius = fractal_sorter(prob025_data)[1]\n",
    "p025_meanSize = getAverage(p025_numParticles, p025_clusterRadius)[0]\n",
    "\n",
    "p025_ln_numParticles = np.log(p025_numParticles)[0]\n",
    "p025_ln_clusterRadius = np.log(p025_meanSize)\n",
    "p025_clusterRadius_err = getAverage(p025_numParticles, p025_clusterRadius)[1]"
   ]
  },
  {
   "cell_type": "code",
   "execution_count": 46,
   "metadata": {},
   "outputs": [
    {
     "ename": "ValueError",
     "evalue": "setting an array element with a sequence. The requested array has an inhomogeneous shape after 1 dimensions. The detected shape was (6,) + inhomogeneous part.",
     "output_type": "error",
     "traceback": [
      "\u001b[0;31m---------------------------------------------------------------------------\u001b[0m",
      "\u001b[0;31mValueError\u001b[0m                                Traceback (most recent call last)",
      "\u001b[0;32m/var/folders/j0/4jbn0h55721bgq7ld4mp7qjw0000gn/T/ipykernel_3197/3844668751.py\u001b[0m in \u001b[0;36m<module>\u001b[0;34m\u001b[0m\n\u001b[1;32m      6\u001b[0m \u001b[0mp001_meanSize\u001b[0m \u001b[0;34m=\u001b[0m \u001b[0mgetAverage\u001b[0m\u001b[0;34m(\u001b[0m\u001b[0mp001_numParticles\u001b[0m\u001b[0;34m,\u001b[0m \u001b[0mp001_clusterRadius\u001b[0m\u001b[0;34m)\u001b[0m\u001b[0;34m[\u001b[0m\u001b[0;36m0\u001b[0m\u001b[0;34m]\u001b[0m\u001b[0;34m\u001b[0m\u001b[0;34m\u001b[0m\u001b[0m\n\u001b[1;32m      7\u001b[0m \u001b[0;34m\u001b[0m\u001b[0m\n\u001b[0;32m----> 8\u001b[0;31m \u001b[0mp001_ln_numParticles\u001b[0m \u001b[0;34m=\u001b[0m \u001b[0mnp\u001b[0m\u001b[0;34m.\u001b[0m\u001b[0mlog\u001b[0m\u001b[0;34m(\u001b[0m\u001b[0mp001_numParticles\u001b[0m\u001b[0;34m)\u001b[0m\u001b[0;34m[\u001b[0m\u001b[0;36m0\u001b[0m\u001b[0;34m]\u001b[0m\u001b[0;34m\u001b[0m\u001b[0;34m\u001b[0m\u001b[0m\n\u001b[0m\u001b[1;32m      9\u001b[0m \u001b[0mp001_ln_clusterRadius\u001b[0m \u001b[0;34m=\u001b[0m \u001b[0mnp\u001b[0m\u001b[0;34m.\u001b[0m\u001b[0mlog\u001b[0m\u001b[0;34m(\u001b[0m\u001b[0mp001_meanSize\u001b[0m\u001b[0;34m)\u001b[0m\u001b[0;34m\u001b[0m\u001b[0;34m\u001b[0m\u001b[0m\n\u001b[1;32m     10\u001b[0m \u001b[0mp001_clusterRadius_err\u001b[0m \u001b[0;34m=\u001b[0m \u001b[0mgetAverage\u001b[0m\u001b[0;34m(\u001b[0m\u001b[0mp001_numParticles\u001b[0m\u001b[0;34m,\u001b[0m \u001b[0mp001_clusterRadius\u001b[0m\u001b[0;34m)\u001b[0m\u001b[0;34m[\u001b[0m\u001b[0;36m1\u001b[0m\u001b[0;34m]\u001b[0m\u001b[0;34m\u001b[0m\u001b[0;34m\u001b[0m\u001b[0m\n",
      "\u001b[0;31mValueError\u001b[0m: setting an array element with a sequence. The requested array has an inhomogeneous shape after 1 dimensions. The detected shape was (6,) + inhomogeneous part."
     ]
    }
   ],
   "source": [
    "prob001_data = pd.DataFrame(pd.read_csv(\"data/prob001_data.csv\", dtype=np.float64))\n",
    "\n",
    "#probability = 50% data processed\n",
    "p001_numParticles = fractal_sorter(prob001_data)[0]\n",
    "p001_clusterRadius = fractal_sorter(prob001_data)[1]\n",
    "p001_meanSize = getAverage(p001_numParticles, p001_clusterRadius)[0]\n",
    "\n",
    "p001_ln_numParticles = np.log(p001_numParticles)[0]\n",
    "p001_ln_clusterRadius = np.log(p001_meanSize)\n",
    "p001_clusterRadius_err = getAverage(p001_numParticles, p001_clusterRadius)[1]"
   ]
  },
  {
   "cell_type": "code",
   "execution_count": 49,
   "metadata": {},
   "outputs": [
    {
     "data": {
      "text/html": [
       "<div>\n",
       "<style scoped>\n",
       "    .dataframe tbody tr th:only-of-type {\n",
       "        vertical-align: middle;\n",
       "    }\n",
       "\n",
       "    .dataframe tbody tr th {\n",
       "        vertical-align: top;\n",
       "    }\n",
       "\n",
       "    .dataframe thead th {\n",
       "        text-align: right;\n",
       "    }\n",
       "</style>\n",
       "<table border=\"1\" class=\"dataframe\">\n",
       "  <thead>\n",
       "    <tr style=\"text-align: right;\">\n",
       "      <th></th>\n",
       "      <th>numParticles</th>\n",
       "      <th>clusterRadius</th>\n",
       "    </tr>\n",
       "  </thead>\n",
       "  <tbody>\n",
       "    <tr>\n",
       "      <th>0</th>\n",
       "      <td>10.0</td>\n",
       "      <td>2.0</td>\n",
       "    </tr>\n",
       "    <tr>\n",
       "      <th>1</th>\n",
       "      <td>20.0</td>\n",
       "      <td>5.0</td>\n",
       "    </tr>\n",
       "    <tr>\n",
       "      <th>2</th>\n",
       "      <td>30.0</td>\n",
       "      <td>8.0</td>\n",
       "    </tr>\n",
       "    <tr>\n",
       "      <th>3</th>\n",
       "      <td>40.0</td>\n",
       "      <td>9.0</td>\n",
       "    </tr>\n",
       "    <tr>\n",
       "      <th>4</th>\n",
       "      <td>50.0</td>\n",
       "      <td>10.0</td>\n",
       "    </tr>\n",
       "    <tr>\n",
       "      <th>...</th>\n",
       "      <td>...</td>\n",
       "      <td>...</td>\n",
       "    </tr>\n",
       "    <tr>\n",
       "      <th>536</th>\n",
       "      <td>960.0</td>\n",
       "      <td>44.0</td>\n",
       "    </tr>\n",
       "    <tr>\n",
       "      <th>537</th>\n",
       "      <td>970.0</td>\n",
       "      <td>44.0</td>\n",
       "    </tr>\n",
       "    <tr>\n",
       "      <th>538</th>\n",
       "      <td>980.0</td>\n",
       "      <td>45.0</td>\n",
       "    </tr>\n",
       "    <tr>\n",
       "      <th>539</th>\n",
       "      <td>990.0</td>\n",
       "      <td>45.0</td>\n",
       "    </tr>\n",
       "    <tr>\n",
       "      <th>540</th>\n",
       "      <td>1000.0</td>\n",
       "      <td>46.0</td>\n",
       "    </tr>\n",
       "  </tbody>\n",
       "</table>\n",
       "<p>541 rows × 2 columns</p>\n",
       "</div>"
      ],
      "text/plain": [
       "     numParticles  clusterRadius\n",
       "0            10.0            2.0\n",
       "1            20.0            5.0\n",
       "2            30.0            8.0\n",
       "3            40.0            9.0\n",
       "4            50.0           10.0\n",
       "..            ...            ...\n",
       "536         960.0           44.0\n",
       "537         970.0           44.0\n",
       "538         980.0           45.0\n",
       "539         990.0           45.0\n",
       "540        1000.0           46.0\n",
       "\n",
       "[541 rows x 2 columns]"
      ]
     },
     "execution_count": 49,
     "metadata": {},
     "output_type": "execute_result"
    }
   ],
   "source": []
  },
  {
   "cell_type": "code",
   "execution_count": 45,
   "metadata": {},
   "outputs": [
    {
     "name": "stdout",
     "output_type": "stream",
     "text": [
      "Fractal dimension = 1.6415821862405293±0.006693145351206477\n"
     ]
    },
    {
     "data": {
      "image/png": "[encoded data removed]",
      "text/plain": [
       "<Figure size 288x288 with 1 Axes>"
      ]
     },
     "metadata": {
      "needs_background": "light"
     },
     "output_type": "display_data"
    }
   ],
   "source": [
    "#plotting\n",
    "\n",
    "fig, ax = plt.subplots(figsize=(4,4))  \n",
    "\n",
    "font = 17\n",
    "\n",
    "#graph formatting\n",
    "#ax.set_xlabel(\"Fractal size / logarithmic\", fontsize=font)\n",
    "#ax.set_ylabel(\"Particle count / logarithmic\", fontsize=font)\n",
    "\n",
    "ax.set_xlabel(\"$ln(R)$\", fontsize=font)\n",
    "ax.set_ylabel(\"$ln(N_C)$\", fontsize=font)\n",
    "\n",
    "plt.xticks(fontsize=font)                 \n",
    "plt.yticks(fontsize=font) \n",
    "plt.tick_params(axis='both', which='both', direction='in', top=True, right=True) \n",
    "\n",
    "#calculating fractal dimension\n",
    "popt, pcov = curve_fit(best_fit, p1_ln_clusterRadius, p1_ln_numParticles)\n",
    "fracdim = popt[0]    \n",
    "fracdim_err = np.sqrt(np.diag(pcov))[0]\n",
    "\n",
    "print(f\"Fractal dimension = {fracdim}±{fracdim_err}\")\n",
    "\n",
    "ax.errorbar(p1_ln_clusterRadius, p1_ln_numParticles, yerr=None, xerr=p1_clusterRadius_err, color='blue', linestyle='', capsize=5)\n",
    "ax.errorbar(p075_ln_clusterRadius, p075_ln_numParticles, yerr=None, xerr=p075_clusterRadius_err, color='red', linestyle='', capsize=5)\n",
    "\n",
    "\n",
    "#ax.errorbar(oneK_log_raddii, oneK_log_numParticles, yerr=None, xerr=oneK_errors, color='red')\n",
    "\n",
    "plt.show()"
   ]
  }
 ],
 "metadata": {
  "kernelspec": {
   "display_name": "Python 3",
   "language": "python",
   "name": "python3"
  },
  "language_info": {
   "codemirror_mode": {
    "name": "ipython",
    "version": 3
   },
   "file_extension": ".py",
   "mimetype": "text/x-python",
   "name": "python",
   "nbconvert_exporter": "python",
   "pygments_lexer": "ipython3",
   "version": "3.9.7"
  }
 },
 "nbformat": 4,
 "nbformat_minor": 2
}
