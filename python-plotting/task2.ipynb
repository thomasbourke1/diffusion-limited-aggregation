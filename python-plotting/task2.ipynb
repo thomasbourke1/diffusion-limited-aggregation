{
 "cells": [
  {
   "cell_type": "code",
   "execution_count": 52,
   "metadata": {},
   "outputs": [],
   "source": [
    "import numpy as np\n",
    "import matplotlib.pyplot as plt\n",
    "import pandas as pd\n",
    "from scipy.optimize import curve_fit\n",
    "import csv"
   ]
  },
  {
   "cell_type": "code",
   "execution_count": 53,
   "metadata": {},
   "outputs": [],
   "source": [
    "def fractal_sorter(fractal_data):\n",
    "    #convert each set of data to numpy array\n",
    "    rawNumParticles = fractal_data.numParticles.to_numpy()\n",
    "    rawClusterRadius = fractal_data.clusterRadius.to_numpy()\n",
    "\n",
    "\n",
    "    #array of indexes of where a new fractal starts\n",
    "    sliceNum = 10\n",
    "    where_isTen = np.where(rawNumParticles == sliceNum)\n",
    "\n",
    "    #initialise empty array to store each fractal\n",
    "    previousIndex = 0\n",
    "    slicedNumParticles = []\n",
    "    slicedClusterRadius = []\n",
    "\n",
    "    #slices fractal data up\n",
    "    for i in where_isTen[0]:\n",
    "\n",
    "        temp_numParticles = rawNumParticles[previousIndex: i]\n",
    "        temp_ClusterRadius = rawClusterRadius[previousIndex: i]\n",
    "        \n",
    "        slicedNumParticles.append(temp_numParticles)\n",
    "        slicedClusterRadius.append(temp_ClusterRadius)\n",
    "\n",
    "        previousIndex = i\n",
    "        \n",
    "    #appends final fractal data\n",
    "    slicedNumParticles.append(rawNumParticles[previousIndex:])\n",
    "    slicedClusterRadius.append(rawClusterRadius[previousIndex:])\n",
    "\n",
    "    #gets rid of 0th row that was empty\n",
    "    slicedNumParticles = slicedNumParticles[1:]\n",
    "    slicedClusterRadius = slicedClusterRadius[1:]\n",
    "    \n",
    "    return slicedNumParticles, slicedClusterRadius\n",
    "\n",
    "def getAverage(particleList, radiusList):\n",
    "    numFractals = len(particleList)\n",
    "    numValues = len(radiusList[0])\n",
    "    meanSizes = np.zeros(numValues)\n",
    "    meanSquareSizes = np.zeros(numValues)\n",
    "    SizeErrors = np.zeros(numValues)\n",
    "    ln_errors = []\n",
    "    \n",
    "    #calculates average clusterRadius\n",
    "    for i in range(numFractals):\n",
    "        for j in range(numValues):\n",
    "            meanSizes[j] += radiusList[i][j]/numFractals\n",
    "            meanSquareSizes[j] += (radiusList[i][j]**2)/numFractals\n",
    "\n",
    "    for k in range(numValues):\n",
    "        SizeErrors[k] += (1/np.sqrt(numFractals-1)) * np.sqrt(meanSquareSizes[k] - meanSizes[k]**2)\n",
    "        #print(SizeErrors[k])\n",
    "        \n",
    "    for l in range(numValues):\n",
    "        ln_errors.append(SizeErrors[l] / meanSizes[l])\n",
    "            \n",
    "    return meanSizes, ln_errors\n",
    "\n",
    "#create line of best fits to calculate gradient\n",
    "def best_fit(x, slope , intercept):\n",
    "    return slope*x + intercept"
   ]
  },
  {
   "cell_type": "code",
   "execution_count": 54,
   "metadata": {},
   "outputs": [],
   "source": [
    "prob1_data = pd.DataFrame(pd.read_csv(\"prob_data/prob1_data.csv\", dtype=np.float64))\n",
    "\n",
    "#probability = 1 data processed\n",
    "p1_numParticles = fractal_sorter(prob1_data)[0]\n",
    "p1_clusterRadius = fractal_sorter(prob1_data)[1]\n",
    "p1_meanSize = getAverage(p1_numParticles, p1_clusterRadius)[0]\n",
    "\n",
    "p1_ln_numParticles = np.log(p1_numParticles)[0]\n",
    "p1_ln_clusterRadius = np.log(p1_meanSize)\n",
    "p1_clusterRadius_err = getAverage(p1_numParticles, p1_clusterRadius)[1]\n",
    "\n",
    "p1_data = [p1_ln_numParticles, p1_ln_clusterRadius, p1_clusterRadius_err]\n"
   ]
  },
  {
   "cell_type": "code",
   "execution_count": 55,
   "metadata": {},
   "outputs": [],
   "source": [
    "prob075_data = pd.DataFrame(pd.read_csv(\"prob_data/prob075_data.csv\", dtype=np.float64))\n",
    "\n",
    "#probability = 75% data processed\n",
    "p075_numParticles = fractal_sorter(prob075_data)[0]\n",
    "p075_clusterRadius = fractal_sorter(prob075_data)[1]\n",
    "p075_meanSize = getAverage(p075_numParticles, p075_clusterRadius)[0]\n",
    "\n",
    "p075_ln_numParticles = np.log(p075_numParticles)[0]\n",
    "p075_ln_clusterRadius = np.log(p075_meanSize)\n",
    "p075_clusterRadius_err = getAverage(p075_numParticles, p075_clusterRadius)[1]\n",
    "\n",
    "p075_data = [p075_ln_numParticles, p075_ln_clusterRadius, p075_clusterRadius_err]"
   ]
  },
  {
   "cell_type": "code",
   "execution_count": 56,
   "metadata": {},
   "outputs": [],
   "source": [
    "prob050_data = pd.DataFrame(pd.read_csv(\"prob_data/prob05_data.csv\", dtype=np.float64))\n",
    "\n",
    "#probability = 50% data processed\n",
    "p050_numParticles = fractal_sorter(prob050_data)[0]\n",
    "p050_clusterRadius = fractal_sorter(prob050_data)[1]\n",
    "p050_meanSize = getAverage(p050_numParticles, p050_clusterRadius)[0]\n",
    "\n",
    "p050_ln_numParticles = np.log(p050_numParticles)[0]\n",
    "p050_ln_clusterRadius = np.log(p050_meanSize)\n",
    "p050_clusterRadius_err = getAverage(p050_numParticles, p050_clusterRadius)[1]\n",
    "\n",
    "p050_data = [p050_ln_numParticles, p050_ln_clusterRadius, p050_clusterRadius_err]"
   ]
  },
  {
   "cell_type": "code",
   "execution_count": 57,
   "metadata": {},
   "outputs": [],
   "source": [
    "prob025_data = pd.DataFrame(pd.read_csv(\"prob_data/prob025_data.csv\", dtype=np.float64))\n",
    "\n",
    "#probability = 50% data processed\n",
    "p025_numParticles = fractal_sorter(prob025_data)[0]\n",
    "p025_clusterRadius = fractal_sorter(prob025_data)[1]\n",
    "p025_meanSize = getAverage(p025_numParticles, p025_clusterRadius)[0]\n",
    "\n",
    "p025_ln_numParticles = np.log(p025_numParticles)[0]\n",
    "p025_ln_clusterRadius = np.log(p025_meanSize)\n",
    "p025_clusterRadius_err = getAverage(p025_numParticles, p025_clusterRadius)[1]\n",
    "\n",
    "p025_data = [p025_ln_numParticles, p025_ln_clusterRadius, p025_clusterRadius_err]"
   ]
  },
  {
   "cell_type": "code",
   "execution_count": 58,
   "metadata": {},
   "outputs": [],
   "source": [
    "prob005_data = pd.DataFrame(pd.read_csv(\"prob_data/prob005_data.csv\", dtype=np.float64))\n",
    "\n",
    "#probability = 50% data processed\n",
    "p005_numParticles = fractal_sorter(prob005_data)[0]\n",
    "p005_clusterRadius = fractal_sorter(prob005_data)[1]\n",
    "p005_meanSize = getAverage(p005_numParticles, p005_clusterRadius)[0]\n",
    "\n",
    "p005_ln_numParticles = np.log(p005_numParticles)[0]\n",
    "p005_ln_clusterRadius = np.log(p005_meanSize)\n",
    "p005_clusterRadius_err = getAverage(p005_numParticles, p005_clusterRadius)[1]\n",
    "\n",
    "p005_data = [p005_ln_numParticles, p005_ln_clusterRadius, p005_clusterRadius_err]"
   ]
  },
  {
   "cell_type": "code",
   "execution_count": 59,
   "metadata": {},
   "outputs": [],
   "source": [
    "prob001_data = pd.DataFrame(pd.read_csv(\"prob_data/prob001_data.csv\", dtype=np.float64))\n",
    "\n",
    "#probability = 50% data processed\n",
    "p001_numParticles = fractal_sorter(prob001_data)[0]\n",
    "p001_clusterRadius = fractal_sorter(prob001_data)[1]\n",
    "p001_meanSize = getAverage(p001_numParticles, p001_clusterRadius)[0]\n",
    "\n",
    "p001_ln_numParticles = np.log(p001_numParticles)[0]\n",
    "p001_ln_clusterRadius = np.log(p001_meanSize)\n",
    "p001_clusterRadius_err = getAverage(p001_numParticles, p001_clusterRadius)[1]\n",
    "\n",
    "p001_data = [p001_ln_numParticles, p001_ln_clusterRadius, p001_clusterRadius_err]"
   ]
  },
  {
   "cell_type": "code",
   "execution_count": 60,
   "metadata": {},
   "outputs": [],
   "source": [
    "prob0875_data = pd.DataFrame(pd.read_csv(\"prob_data/prob0875_data.csv\", dtype=np.float64))\n",
    "\n",
    "#probability = 50% data processed\n",
    "p0875_numParticles = fractal_sorter(prob0875_data)[0]\n",
    "p0875_clusterRadius = fractal_sorter(prob0875_data)[1]\n",
    "p0875_meanSize = getAverage(p0875_numParticles, p0875_clusterRadius)[0]\n",
    "\n",
    "p0875_ln_numParticles = np.log(p0875_numParticles)[0]\n",
    "p0875_ln_clusterRadius = np.log(p0875_meanSize)\n",
    "p0875_clusterRadius_err = getAverage(p0875_numParticles, p0875_clusterRadius)[1]\n",
    "\n",
    "p0875_data = [p0875_ln_numParticles, p0875_ln_clusterRadius, p0875_clusterRadius_err]"
   ]
  },
  {
   "cell_type": "code",
   "execution_count": 61,
   "metadata": {},
   "outputs": [],
   "source": [
    "prob0625_data = pd.DataFrame(pd.read_csv(\"prob_data/prob0625_data.csv\", dtype=np.float64))\n",
    "\n",
    "#probability = 50% data processed\n",
    "p0625_numParticles = fractal_sorter(prob0625_data)[0]\n",
    "p0625_clusterRadius = fractal_sorter(prob0625_data)[1]\n",
    "p0625_meanSize = getAverage(p0625_numParticles, p0625_clusterRadius)[0]\n",
    "\n",
    "p0625_ln_numParticles = np.log(p0625_numParticles)[0]\n",
    "p0625_ln_clusterRadius = np.log(p0625_meanSize)\n",
    "p0625_clusterRadius_err = getAverage(p0625_numParticles, p0625_clusterRadius)[1]\n",
    "\n",
    "p0625_data = [p0625_ln_numParticles, p0625_ln_clusterRadius, p0625_clusterRadius_err]"
   ]
  },
  {
   "cell_type": "code",
   "execution_count": 62,
   "metadata": {},
   "outputs": [],
   "source": [
    "prob0375_data = pd.DataFrame(pd.read_csv(\"prob_data/prob0375_data.csv\", dtype=np.float64))\n",
    "\n",
    "#probability = 50% data processed\n",
    "p0375_numParticles = fractal_sorter(prob0375_data)[0]\n",
    "p0375_clusterRadius = fractal_sorter(prob0375_data)[1]\n",
    "p0375_meanSize = getAverage(p0375_numParticles, p0375_clusterRadius)[0]\n",
    "\n",
    "p0375_ln_numParticles = np.log(p0375_numParticles)[0]\n",
    "p0375_ln_clusterRadius = np.log(p0375_meanSize)\n",
    "p0375_clusterRadius_err = getAverage(p0375_numParticles, p0375_clusterRadius)[1]\n",
    "\n",
    "p0375_data = [p0375_ln_numParticles, p0375_ln_clusterRadius, p0375_clusterRadius_err]"
   ]
  },
  {
   "cell_type": "code",
   "execution_count": 63,
   "metadata": {},
   "outputs": [],
   "source": [
    "prob015_data = pd.DataFrame(pd.read_csv(\"prob_data/prob015_data.csv\", dtype=np.float64))\n",
    "\n",
    "#probability = 50% data processed\n",
    "p015_numParticles = fractal_sorter(prob015_data)[0]\n",
    "p015_clusterRadius = fractal_sorter(prob015_data)[1]\n",
    "p015_meanSize = getAverage(p015_numParticles, p015_clusterRadius)[0]\n",
    "\n",
    "p015_ln_numParticles = np.log(p015_numParticles)[0]\n",
    "p015_ln_clusterRadius = np.log(p015_meanSize)\n",
    "p015_clusterRadius_err = getAverage(p015_numParticles, p015_clusterRadius)[1]\n",
    "\n",
    "p015_data = [p015_ln_numParticles, p015_ln_clusterRadius, p015_clusterRadius_err]"
   ]
  },
  {
   "cell_type": "code",
   "execution_count": 64,
   "metadata": {},
   "outputs": [],
   "source": [
    "prob002_data = pd.DataFrame(pd.read_csv(\"prob_data/prob002_data.csv\", dtype=np.float64))\n",
    "\n",
    "#probability = 50% data processed\n",
    "p002_numParticles = fractal_sorter(prob002_data)[0]\n",
    "p002_clusterRadius = fractal_sorter(prob002_data)[1]\n",
    "p002_meanSize = getAverage(p002_numParticles, p002_clusterRadius)[0]\n",
    "\n",
    "p002_ln_numParticles = np.log(p002_numParticles)[0]\n",
    "p002_ln_clusterRadius = np.log(p002_meanSize)\n",
    "p002_clusterRadius_err = getAverage(p002_numParticles, p002_clusterRadius)[1]\n",
    "\n",
    "p002_data = [p002_ln_numParticles, p002_ln_clusterRadius, p002_clusterRadius_err]"
   ]
  },
  {
   "cell_type": "markdown",
   "metadata": {},
   "source": [
    "# add in new data"
   ]
  },
  {
   "cell_type": "code",
   "execution_count": 65,
   "metadata": {},
   "outputs": [],
   "source": [
    "prob009_data = pd.DataFrame(pd.read_csv(\"prob_data/prob009_data.csv\", dtype=np.float64))\n",
    "\n",
    "#probability = 50% data processed\n",
    "p009_numParticles = fractal_sorter(prob009_data)[0]\n",
    "p009_clusterRadius = fractal_sorter(prob009_data)[1]\n",
    "p009_meanSize = getAverage(p009_numParticles, p009_clusterRadius)[0]\n",
    "\n",
    "p009_ln_numParticles = np.log(p009_numParticles)[0]\n",
    "p009_ln_clusterRadius = np.log(p009_meanSize)\n",
    "p009_clusterRadius_err = getAverage(p009_numParticles, p009_clusterRadius)[1]\n",
    "\n",
    "p009_data = [p009_ln_numParticles, p009_ln_clusterRadius, p009_clusterRadius_err]"
   ]
  },
  {
   "cell_type": "code",
   "execution_count": 66,
   "metadata": {},
   "outputs": [],
   "source": [
    "prob008_data = pd.DataFrame(pd.read_csv(\"prob_data/prob008_data.csv\", dtype=np.float64))\n",
    "\n",
    "#probability = 50% data processed\n",
    "p008_numParticles = fractal_sorter(prob008_data)[0]\n",
    "p008_clusterRadius = fractal_sorter(prob008_data)[1]\n",
    "p008_meanSize = getAverage(p008_numParticles, p008_clusterRadius)[0]\n",
    "\n",
    "p008_ln_numParticles = np.log(p008_numParticles)[0]\n",
    "p008_ln_clusterRadius = np.log(p008_meanSize)\n",
    "p008_clusterRadius_err = getAverage(p008_numParticles, p008_clusterRadius)[1]\n",
    "\n",
    "p008_data = [p008_ln_numParticles, p008_ln_clusterRadius, p008_clusterRadius_err]"
   ]
  },
  {
   "cell_type": "code",
   "execution_count": 67,
   "metadata": {},
   "outputs": [],
   "source": [
    "prob007_data = pd.DataFrame(pd.read_csv(\"prob_data/prob007_data.csv\", dtype=np.float64))\n",
    "\n",
    "#probability = 50% data processed\n",
    "p007_numParticles = fractal_sorter(prob007_data)[0]\n",
    "p007_clusterRadius = fractal_sorter(prob007_data)[1]\n",
    "p007_meanSize = getAverage(p007_numParticles, p007_clusterRadius)[0]\n",
    "\n",
    "p007_ln_numParticles = np.log(p007_numParticles)[0]\n",
    "p007_ln_clusterRadius = np.log(p007_meanSize)\n",
    "p007_clusterRadius_err = getAverage(p007_numParticles, p007_clusterRadius)[1]\n",
    "\n",
    "p007_data = [p007_ln_numParticles, p007_ln_clusterRadius, p007_clusterRadius_err]"
   ]
  },
  {
   "cell_type": "code",
   "execution_count": 68,
   "metadata": {},
   "outputs": [],
   "source": [
    "prob006_data = pd.DataFrame(pd.read_csv(\"prob_data/prob006_data.csv\", dtype=np.float64))\n",
    "\n",
    "#probability = 50% data processed\n",
    "p006_numParticles = fractal_sorter(prob006_data)[0]\n",
    "p006_clusterRadius = fractal_sorter(prob006_data)[1]\n",
    "p006_meanSize = getAverage(p006_numParticles, p006_clusterRadius)[0]\n",
    "\n",
    "p006_ln_numParticles = np.log(p006_numParticles)[0]\n",
    "p006_ln_clusterRadius = np.log(p006_meanSize)\n",
    "p006_clusterRadius_err = getAverage(p006_numParticles, p006_clusterRadius)[1]\n",
    "\n",
    "p006_data = [p006_ln_numParticles, p006_ln_clusterRadius, p006_clusterRadius_err]"
   ]
  },
  {
   "cell_type": "code",
   "execution_count": 69,
   "metadata": {},
   "outputs": [],
   "source": [
    "prob005_data = pd.DataFrame(pd.read_csv(\"prob_data/prob005_data.csv\", dtype=np.float64))\n",
    "\n",
    "#probability = 50% data processed\n",
    "p005_numParticles = fractal_sorter(prob005_data)[0]\n",
    "p005_clusterRadius = fractal_sorter(prob005_data)[1]\n",
    "p005_meanSize = getAverage(p005_numParticles, p005_clusterRadius)[0]\n",
    "\n",
    "p005_ln_numParticles = np.log(p005_numParticles)[0]\n",
    "p005_ln_clusterRadius = np.log(p005_meanSize)\n",
    "p005_clusterRadius_err = getAverage(p005_numParticles, p005_clusterRadius)[1]\n",
    "\n",
    "p005_data = [p005_ln_numParticles, p005_ln_clusterRadius, p005_clusterRadius_err]"
   ]
  },
  {
   "cell_type": "code",
   "execution_count": 70,
   "metadata": {},
   "outputs": [],
   "source": [
    "prob004_data = pd.DataFrame(pd.read_csv(\"prob_data/prob004_data.csv\", dtype=np.float64))\n",
    "\n",
    "#probability = 50% data processed\n",
    "p004_numParticles = fractal_sorter(prob004_data)[0]\n",
    "p004_clusterRadius = fractal_sorter(prob004_data)[1]\n",
    "p004_meanSize = getAverage(p004_numParticles, p004_clusterRadius)[0]\n",
    "\n",
    "p004_ln_numParticles = np.log(p004_numParticles)[0]\n",
    "p004_ln_clusterRadius = np.log(p004_meanSize)\n",
    "p004_clusterRadius_err = getAverage(p004_numParticles, p004_clusterRadius)[1]\n",
    "\n",
    "p004_data = [p004_ln_numParticles, p004_ln_clusterRadius, p004_clusterRadius_err]"
   ]
  },
  {
   "cell_type": "code",
   "execution_count": 71,
   "metadata": {},
   "outputs": [],
   "source": [
    "prob003_data = pd.DataFrame(pd.read_csv(\"prob_data/prob003_data.csv\", dtype=np.float64))\n",
    "\n",
    "#probability = 50% data processed\n",
    "p003_numParticles = fractal_sorter(prob003_data)[0]\n",
    "p003_clusterRadius = fractal_sorter(prob003_data)[1]\n",
    "p003_meanSize = getAverage(p003_numParticles, p003_clusterRadius)[0]\n",
    "\n",
    "p003_ln_numParticles = np.log(p003_numParticles)[0]\n",
    "p003_ln_clusterRadius = np.log(p003_meanSize)\n",
    "p003_clusterRadius_err = getAverage(p003_numParticles, p003_clusterRadius)[1]\n",
    "\n",
    "p003_data = [p003_ln_numParticles, p003_ln_clusterRadius, p003_clusterRadius_err]"
   ]
  },
  {
   "cell_type": "code",
   "execution_count": null,
   "metadata": {},
   "outputs": [],
   "source": []
  },
  {
   "cell_type": "code",
   "execution_count": 72,
   "metadata": {},
   "outputs": [],
   "source": [
    "def getFractalDim(data):\n",
    "    popt, pcov = curve_fit(best_fit, data[1], data[0])\n",
    "    fracdim = popt[0]    \n",
    "    fracdim_err = np.sqrt(np.diag(pcov))[0]\n",
    "    \n",
    "    return fracdim, fracdim_err"
   ]
  },
  {
   "cell_type": "code",
   "execution_count": 73,
   "metadata": {},
   "outputs": [],
   "source": [
    "probs = [1, 0.875, 0.75, 0.625, 0.5, 0.375, 0.25, 0.15, 0.09, 0.08, 0.07, 0.06, 0.05, 0.04, 0.03, 0.02, 0.01]\n",
    "\n",
    "fd = []\n",
    "fd_err = []\n",
    "\n",
    "fd.append(getFractalDim(p1_data)[0])\n",
    "fd_err.append(getFractalDim(p1_data)[1])\n",
    "\n",
    "fd.append(getFractalDim(p0875_data)[0])\n",
    "fd_err.append(getFractalDim(p0875_data)[1])\n",
    "\n",
    "fd.append(getFractalDim(p075_data)[0])\n",
    "fd_err.append(getFractalDim(p075_data)[1])\n",
    "\n",
    "fd.append(getFractalDim(p0625_data)[0])\n",
    "fd_err.append(getFractalDim(p0625_data)[1])\n",
    "\n",
    "fd.append(getFractalDim(p050_data)[0])\n",
    "fd_err.append(getFractalDim(p050_data)[1])\n",
    "\n",
    "fd.append(getFractalDim(p0375_data)[0])\n",
    "fd_err.append(getFractalDim(p0375_data)[1])\n",
    "\n",
    "fd.append(getFractalDim(p025_data)[0])\n",
    "fd_err.append(getFractalDim(p025_data)[1])\n",
    "\n",
    "fd.append(getFractalDim(p015_data)[0])\n",
    "fd_err.append(getFractalDim(p015_data)[1])\n",
    "\n",
    "fd.append(getFractalDim(p009_data)[0])\n",
    "fd_err.append(getFractalDim(p009_data)[1])\n",
    "\n",
    "fd.append(getFractalDim(p008_data)[0])\n",
    "fd_err.append(getFractalDim(p008_data)[1])\n",
    "\n",
    "fd.append(getFractalDim(p007_data)[0])\n",
    "fd_err.append(getFractalDim(p007_data)[1])\n",
    "\n",
    "fd.append(getFractalDim(p006_data)[0])\n",
    "fd_err.append(getFractalDim(p006_data)[1])\n",
    "\n",
    "fd.append(getFractalDim(p005_data)[0])\n",
    "fd_err.append(getFractalDim(p005_data)[1])\n",
    "\n",
    "fd.append(getFractalDim(p004_data)[0])\n",
    "fd_err.append(getFractalDim(p004_data)[1])\n",
    "\n",
    "fd.append(getFractalDim(p003_data)[0])\n",
    "fd_err.append(getFractalDim(p003_data)[1])\n",
    "\n",
    "\n",
    "fd.append(getFractalDim(p002_data)[0])\n",
    "fd_err.append(getFractalDim(p002_data)[1])\n",
    "\n",
    "fd.append(getFractalDim(p001_data)[0])\n",
    "fd_err.append(getFractalDim(p001_data)[1])\n"
   ]
  },
  {
   "cell_type": "code",
   "execution_count": 97,
   "metadata": {},
   "outputs": [
    {
     "data": {
      "text/plain": [
       "array([1.   , 0.875, 0.75 , 0.625, 0.5  , 0.375, 0.25 , 0.15 , 0.09 ,\n",
       "       0.08 , 0.07 , 0.06 , 0.05 , 0.04 , 0.03 , 0.02 , 0.01 ])"
      ]
     },
     "execution_count": 97,
     "metadata": {},
     "output_type": "execute_result"
    }
   ],
   "source": [
    "#encode stick probability parameter (SPP) t\n",
    "B = 2\n",
    "t = np.exp(np.log(probs)/(3-B))\n",
    "t"
   ]
  },
  {
   "cell_type": "code",
   "execution_count": 101,
   "metadata": {},
   "outputs": [
    {
     "name": "stdout",
     "output_type": "stream",
     "text": [
      "Gradient = -0.19 $\\pm$ 0.03\n",
      "Intercept = 0.67 $\\pm$ 0.01\n"
     ]
    },
    {
     "data": {
      "image/png": "[encoded data removed]",
      "text/plain": [
       "<Figure size 288x288 with 1 Axes>"
      ]
     },
     "metadata": {
      "needs_background": "light"
     },
     "output_type": "display_data"
    }
   ],
   "source": [
    "import matplotlib.pyplot as plt\n",
    "import matplotlib.ticker as ticker\n",
    "\n",
    "fig, ax = plt.subplots(figsize=(4,4)) \n",
    "font = 17\n",
    "\n",
    "ax.set_xlabel(\"Sticking probability P\", fontsize=font)\n",
    "ax.set_ylabel(\"ln$(f_d)$\", fontsize=font)\n",
    "\n",
    "plt.xticks(fontsize=font)                 \n",
    "plt.yticks(fontsize=font) \n",
    "plt.tick_params(axis='both', which='both', direction='in', top=True, right=True) \n",
    "\n",
    "#ax.set_xscale('log')\n",
    "\n",
    "ax.errorbar(t, np.log(fd), xerr=None, yerr=fd_err, color='blue', linestyle='', capsize=5)\n",
    "#ax.errorbar(probs, fd, xerr=None, yerr=fd_err, color='blue', linestyle='', capsize=5)\n",
    "\n",
    "\n",
    "#plot line of best fit\n",
    "popt, pcov = curve_fit(best_fit, t, np.log(fd))\n",
    "grad = popt[0]\n",
    "grad_err = np.sqrt(np.diag(pcov))[0]\n",
    "\n",
    "x_data = np.linspace(min(t), 1, 100)\n",
    "\n",
    "# Define the formatter function\n",
    "def decimal_formatter(x, pos):\n",
    "    return f\"{x*100:.1f}\"\n",
    "\n",
    "ax.plot(x_data, best_fit(x_data, *popt), color='red', linestyle='--', label=f\"Gradient = {grad:.2f} $\\pm$ {grad_err:.2f}\")\n",
    "\n",
    "print(f\"Gradient = {grad:.2f} $\\pm$ {grad_err:.2f}\")\n",
    "print(f\"Intercept = {popt[1]:.2f} $\\pm$ {np.sqrt(np.diag(pcov))[1]:.2f}\")\n",
    "\n",
    "\n",
    "\n",
    "# Set the formatter for the x-axis\n",
    "#ax.xaxis.set_major_formatter(ticker.FuncFormatter(decimal_formatter))\n",
    "\n",
    "#plt.savefig('figures/fracdim_stick.png')\n",
    "plt.show()\n"
   ]
  },
  {
   "cell_type": "code",
   "execution_count": 76,
   "metadata": {},
   "outputs": [
    {
     "name": "stdout",
     "output_type": "stream",
     "text": [
      "Fractal dimension = 2.06318006205442±0.011388830361741159\n"
     ]
    },
    {
     "data": {
      "image/png": "[encoded data removed]",
      "text/plain": [
       "<Figure size 288x288 with 1 Axes>"
      ]
     },
     "metadata": {
      "needs_background": "light"
     },
     "output_type": "display_data"
    }
   ],
   "source": [
    "#plotting\n",
    "\n",
    "fig, ax = plt.subplots(figsize=(4,4))  \n",
    "\n",
    "font = 17\n",
    "\n",
    "#graph formatting\n",
    "#ax.set_xlabel(\"Fractal size / logarithmic\", fontsize=font)\n",
    "#ax.set_ylabel(\"Particle count / logarithmic\", fontsize=font)\n",
    "\n",
    "ax.set_xlabel(\"$ln(R)$\", fontsize=font)\n",
    "ax.set_ylabel(\"$ln(N_C)$\", fontsize=font)\n",
    "\n",
    "plt.xticks(fontsize=font)                 \n",
    "plt.yticks(fontsize=font) \n",
    "plt.tick_params(axis='both', which='both', direction='in', top=True, right=True) \n",
    "\n",
    "#calculating fractal dimension\n",
    "popt, pcov = curve_fit(best_fit, p001_ln_clusterRadius, p001_ln_numParticles)\n",
    "fracdim = popt[0]    \n",
    "fracdim_err = np.sqrt(np.diag(pcov))[0]\n",
    "\n",
    "print(f\"Fractal dimension = {fracdim}±{fracdim_err}\")\n",
    "\n",
    "ax.errorbar(p1_ln_clusterRadius, p1_ln_numParticles, marker='o', markersize=5, yerr=None, xerr=p1_clusterRadius_err, color='blue', linestyle='', capsize=5, label='100%')\n",
    "#ax.errorbar(p075_ln_clusterRadius, p075_ln_numParticles, yerr=None, xerr=p075_clusterRadius_err, color='red', linestyle='', capsize=5)\n",
    "\n",
    "ax.errorbar(p009_ln_clusterRadius, p009_ln_numParticles, marker='o', markersize=5, yerr=None, xerr=p009_clusterRadius_err, color='red', linestyle='', capsize=5, label='10%')\n",
    "\n",
    "ax.errorbar(p001_ln_clusterRadius, p001_ln_numParticles, marker='o', markersize=5, yerr=None, xerr=p001_clusterRadius_err, color='black', linestyle='', capsize=5, label='1%')\n",
    "\n",
    "#ax.errorbar(oneK_log_raddii, oneK_log_numParticles, yerr=None, xerr=oneK_errors, color='red')\n",
    "\n",
    "plt.legend()\n",
    "\n",
    "plt.savefig('figures/fracdim_stick2')\n",
    "plt.show()\n"
   ]
  }
 ],
 "metadata": {
  "kernelspec": {
   "display_name": "Python 3",
   "language": "python",
   "name": "python3"
  },
  "language_info": {
   "codemirror_mode": {
    "name": "ipython",
    "version": 3
   },
   "file_extension": ".py",
   "mimetype": "text/x-python",
   "name": "python",
   "nbconvert_exporter": "python",
   "pygments_lexer": "ipython3",
   "version": "3.9.7"
  }
 },
 "nbformat": 4,
 "nbformat_minor": 2
}
