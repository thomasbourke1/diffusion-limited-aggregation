{
 "cells": [
  {
   "cell_type": "code",
   "execution_count": 12,
   "metadata": {},
   "outputs": [],
   "source": [
    "import numpy as np\n",
    "import matplotlib.pyplot as plt\n",
    "import pandas as pd\n",
    "from scipy.optimize import curve_fit\n",
    "import csv"
   ]
  },
  {
   "cell_type": "code",
   "execution_count": 13,
   "metadata": {},
   "outputs": [],
   "source": [
    "#read in data\n",
    "threeK_fractal_data = pd.DataFrame(pd.read_csv(\"data/3000_particles.csv\", dtype=np.float64))\n",
    "\n",
    "oneK_fractal_data = pd.DataFrame(pd.read_csv(\"data/1000endNum.csv\", dtype=np.float64))\n",
    "\n",
    "def fractal_sorter(fractal_data):\n",
    "    #convert each set of data to numpy array\n",
    "    rawNumParticles = fractal_data.numParticles.to_numpy()\n",
    "    rawClusterRadius = fractal_data.clusterRadius.to_numpy()\n",
    "\n",
    "\n",
    "    #array of indexes of where a new fractal starts\n",
    "    sliceNum = 10\n",
    "    where_isTen = np.where(rawNumParticles == sliceNum)\n",
    "\n",
    "    #initialise empty array to store each fractal\n",
    "    previousIndex = 0\n",
    "    slicedNumParticles = []\n",
    "    slicedClusterRadius = []\n",
    "\n",
    "    #slices fractal data up\n",
    "    for i in where_isTen[0]:\n",
    "\n",
    "        temp_numParticles = rawNumParticles[previousIndex: i]\n",
    "        temp_ClusterRadius = rawClusterRadius[previousIndex: i]\n",
    "        \n",
    "        slicedNumParticles.append(temp_numParticles)\n",
    "        slicedClusterRadius.append(temp_ClusterRadius)\n",
    "\n",
    "        previousIndex = i\n",
    "        \n",
    "    #appends final fractal data\n",
    "    slicedNumParticles.append(rawNumParticles[previousIndex:])\n",
    "    slicedClusterRadius.append(rawClusterRadius[previousIndex:])\n",
    "\n",
    "    #gets rid of 0th row that was empty\n",
    "    slicedNumParticles = slicedNumParticles[1:]\n",
    "    slicedClusterRadius = slicedClusterRadius[1:]\n",
    "    \n",
    "    return slicedNumParticles, slicedClusterRadius\n"
   ]
  },
  {
   "cell_type": "code",
   "execution_count": 14,
   "metadata": {},
   "outputs": [],
   "source": [
    "#find average cluster radius at each particle number\n",
    "\n",
    "def getAverage(particleList, radiusList):\n",
    "    numFractals = len(particleList)\n",
    "    numValues = len(radiusList[0])\n",
    "    meanSizes = np.zeros(numValues)\n",
    "    meanSquareSizes = np.zeros(numValues)\n",
    "    SizeErrors = np.zeros(numValues)\n",
    "    ln_errors = []\n",
    "    \n",
    "    #calculates average clusterRadius\n",
    "    for i in range(numFractals):\n",
    "        for j in range(numValues):\n",
    "            meanSizes[j] += radiusList[i][j]/numFractals\n",
    "            meanSquareSizes[j] += (radiusList[i][j]**2)/numFractals\n",
    "\n",
    "    for k in range(numValues):\n",
    "        SizeErrors[k] += (1/np.sqrt(numFractals-1)) * np.sqrt(meanSquareSizes[k] - meanSizes[k]**2)\n",
    "        #print(SizeErrors[k])\n",
    "        \n",
    "    for l in range(numValues):\n",
    "        ln_errors.append(SizeErrors[l] / meanSizes[l])\n",
    "            \n",
    "    return meanSizes, ln_errors\n"
   ]
  },
  {
   "cell_type": "code",
   "execution_count": 15,
   "metadata": {},
   "outputs": [],
   "source": [
    "#process 3000 particle fractals\n",
    "\n",
    "threeK_numParticles = fractal_sorter(threeK_fractal_data)[0]\n",
    "threeK_clusterRadius = fractal_sorter(threeK_fractal_data)[1]\n",
    "threeK_meanClusterSize = getAverage(threeK_numParticles, threeK_clusterRadius)[0]\n",
    "\n",
    "threeK_log_clusterSize = np.log(threeK_meanClusterSize)\n",
    "threeK_log_numParticles = np.log(threeK_numParticles)[0]\n",
    "threeK_errors = getAverage(threeK_numParticles, threeK_clusterRadius)[1]\n",
    "\n",
    "#process 2000 particle fractals\n",
    "\n",
    "#process 1000 particle fractals\n",
    "oneK_numParticles = fractal_sorter(oneK_fractal_data)[0]\n",
    "oneK_clusterRadius = fractal_sorter(oneK_fractal_data)[1]\n",
    "oneK_meanClusterSize = getAverage(oneK_numParticles, oneK_clusterRadius)[0]\n",
    "\n",
    "oneK_log_clusterSize = np.log(oneK_meanClusterSize)\n",
    "oneK_log_numParticles = np.log(oneK_numParticles)[0]\n",
    "oneK_errors = getAverage(oneK_numParticles, oneK_clusterRadius)[1]"
   ]
  },
  {
   "cell_type": "code",
   "execution_count": 68,
   "metadata": {},
   "outputs": [
    {
     "data": {
      "text/plain": [
       "'\\'\\'\\ndef getFracalDim_nth(ln_numParticles, ln_clusterSize, N):\\n    \"\"\"Function calculates fractal dimension up to numParticles == N\\n    \"\"\"\\n    temp_numParticles, temp_clusterSize = [], []\\n    \\n    ln_N = np.log(N)\\n    \\n    for i in range(len(ln_numParticles)):\\n        cutOffIndex = np.where(ln_numParticles[i] == ln_N)\\n        print(f\"cutoff index = {cutOffIndex}\")\\n        temp_numParticles.append(ln_numParticles[0:cutOffIndex+1][i])\\n        temp_clusterSize.append(ln_clusterSize[0:cutOffIndex+1][i])       \\n    \\n    #cutOffIndex = np.where(ln_numParticles == ln_N)\\n    \\n   # temp_numParticles.append(ln_numParticles[0:cutOffIndex+1])\\n    #temp_clusterSize.append(ln_clusterSize[0:cutOffIndex+1])\\n    \\n    #fd = getFracalDim(temp_numParticles, temp_clusterSize)[0]\\n    #fd_err = getFracalDim(temp_numParticles, temp_clusterSize)[1]\\n    \\n    #print(f\\'fractal dimension = {fd} ± {fd_err}\\')\\n    \\n    return\\n'"
      ]
     },
     "execution_count": 68,
     "metadata": {},
     "output_type": "execute_result"
    }
   ],
   "source": [
    "#function to calculate fractal dimension fd\n",
    "\n",
    "def best_fit(x, slope , intercept):\n",
    "    return slope*x + intercept\n",
    "\n",
    "def getFracalDim(ln_numParticles, ln_clusterSize):\n",
    "    \n",
    "    popt, pcov = curve_fit(best_fit, ln_clusterSize, ln_numParticles)\n",
    "    fd = popt[0]   \n",
    "    fd_err = np.sqrt(np.diag(pcov))[0]\n",
    "    \n",
    "    return fd, fd_err\n",
    "    \n",
    "    \n",
    "def getFractalDim_nth(numParticles, clusterSize, N):\n",
    "    tempSizes, tempNums = [], []\n",
    "    \n",
    "    for i in range (len(numParticles)):\n",
    "        cutOffIndex = np.where(numParticles[i] == N)[0][0]\n",
    "        tempSizes.append(clusterSize[0:cutOffIndex+1])\n",
    "        tempNums.append(numParticles[0][0:cutOffIndex+1])\n",
    "     \n",
    "    tempSizes = tempSizes[0]\n",
    "    tempNums = tempNums[0]\n",
    "    \n",
    "    #now calculate fractal dim\n",
    "    fd = getFracalDim(np.log(tempNums), np.log(tempSizes))[0]\n",
    "    fd_err = getFracalDim(np.log(tempNums), np.log(tempSizes))[1]\n",
    "    \n",
    "    return fd, fd_err\n",
    "    \n",
    "        \n",
    "    \n",
    "\n",
    "'''''\n",
    "def getFracalDim_nth(ln_numParticles, ln_clusterSize, N):\n",
    "    \"\"\"Function calculates fractal dimension up to numParticles == N\n",
    "    \"\"\"\n",
    "    temp_numParticles, temp_clusterSize = [], []\n",
    "    \n",
    "    ln_N = np.log(N)\n",
    "    \n",
    "    for i in range(len(ln_numParticles)):\n",
    "        cutOffIndex = np.where(ln_numParticles[i] == ln_N)\n",
    "        print(f\"cutoff index = {cutOffIndex}\")\n",
    "        temp_numParticles.append(ln_numParticles[0:cutOffIndex+1][i])\n",
    "        temp_clusterSize.append(ln_clusterSize[0:cutOffIndex+1][i])       \n",
    "    \n",
    "    #cutOffIndex = np.where(ln_numParticles == ln_N)\n",
    "    \n",
    "   # temp_numParticles.append(ln_numParticles[0:cutOffIndex+1])\n",
    "    #temp_clusterSize.append(ln_clusterSize[0:cutOffIndex+1])\n",
    "    \n",
    "    #fd = getFracalDim(temp_numParticles, temp_clusterSize)[0]\n",
    "    #fd_err = getFracalDim(temp_numParticles, temp_clusterSize)[1]\n",
    "    \n",
    "    #print(f'fractal dimension = {fd} ± {fd_err}')\n",
    "    \n",
    "    return\n",
    "'''''"
   ]
  },
  {
   "cell_type": "code",
   "execution_count": 69,
   "metadata": {},
   "outputs": [
    {
     "name": "stdout",
     "output_type": "stream",
     "text": [
      "cutOffIndex = 299\n",
      "\n",
      "tempSizes = [ 2.6  4.4  5.4  7.   8.2  9.2 10.2 11.  12.4 13.2 13.8 14.4 15.  16.\n",
      " 16.6 17.2 18.4 18.8 19.2 19.6 19.8 21.  21.6 22.  23.  23.4 24.  24.4\n",
      " 25.  25.6 26.4 26.8 27.4 27.8 27.8 28.6 28.6 28.8 29.2 29.6 30.  30.4\n",
      " 31.  31.4 31.8 32.2 32.6 33.  33.  33.8 34.4 34.6 35.  35.4 35.8 36.2\n",
      " 36.8 37.  37.4 37.6 38.  38.6 38.8 39.2 39.8 40.2 40.6 41.2 41.8 42.2\n",
      " 42.4 42.8 43.6 43.6 44.  44.2 44.4 44.8 45.  45.  45.2 45.8 45.8 46.\n",
      " 46.2 46.6 46.8 47.4 48.  48.2 48.4 48.6 49.4 49.6 50.2 50.4 50.4 50.8\n",
      " 51.2 51.6 51.6 52.4 52.6 53.  53.4 53.6 53.8 54.  54.  54.2 54.4 54.4\n",
      " 54.6 55.  55.  55.8 56.2 56.2 56.4 56.6 57.4 57.6 58.4 59.  59.4 59.6\n",
      " 60.2 60.4 60.6 60.8 61.2 61.4 61.4 61.4 61.4 61.6 61.8 62.4 62.6 62.8\n",
      " 63.4 63.6 63.8 63.8 64.2 64.2 65.2 65.2 65.6 65.6 65.6 65.8 66.  66.2\n",
      " 66.2 66.2 66.2 66.4 66.6 66.8 67.4 67.6 67.8 68.  68.2 68.2 68.4 68.4\n",
      " 68.6 68.6 69.  69.2 69.6 70.  70.  70.4 70.8 70.8 71.2 71.2 71.6 71.8\n",
      " 72.  72.2 72.4 72.6 72.8 73.  73.  73.2 73.8 73.8 74.2 74.8 74.8 75.\n",
      " 75.2 75.2 75.2 75.8 76.  76.  76.  76.2 76.6 76.8 77.2 77.6 77.6 77.6\n",
      " 77.8 78.2 78.4 78.6 79.  79.2 79.2 79.2 79.2 79.4 79.8 80.2 80.4 80.4\n",
      " 80.6 81.  81.4 81.8 82.2 82.4 82.4 82.4 82.4 82.6 82.6 82.8 83.4 83.6\n",
      " 83.6 83.8 84.  84.2 84.4 84.6 84.8 85.  85.  85.  85.6 85.8 86.  86.\n",
      " 86.4 86.6 87.  87.2 87.2 87.6 88.  88.  88.2 88.4 89.2 89.4 89.6 89.6\n",
      " 89.6 89.8 90.  90.2 90.4 90.6 90.8 90.8 90.8 91.2 91.4 91.4 91.4 92.\n",
      " 92.4 92.6 92.6 92.6 92.6 92.8 93.4 94.  94.2 94.2 94.2 94.4 94.4 94.4\n",
      " 94.4 94.6 95.  95.  95.  95.4]\n"
     ]
    },
    {
     "data": {
      "text/plain": [
       "(1.678896367851841, 0.004169735049346369)"
      ]
     },
     "execution_count": 69,
     "metadata": {},
     "output_type": "execute_result"
    }
   ],
   "source": [
    "getFractalDim_nth(threeK_numParticles, threeK_meanClusterSize, 3000)"
   ]
  },
  {
   "cell_type": "code",
   "execution_count": null,
   "metadata": {},
   "outputs": [
    {
     "data": {
      "text/plain": [
       "array([2.30258509, 2.99573227, 3.40119738])"
      ]
     },
     "execution_count": 50,
     "metadata": {},
     "output_type": "execute_result"
    }
   ],
   "source": [
    "threeK_log_numParticles[0:3]"
   ]
  },
  {
   "cell_type": "code",
   "execution_count": null,
   "metadata": {},
   "outputs": [
    {
     "data": {
      "text/plain": [
       "2.302585092994046"
      ]
     },
     "execution_count": 52,
     "metadata": {},
     "output_type": "execute_result"
    }
   ],
   "source": [
    "threeK_log_numParticles[0:3][0]"
   ]
  },
  {
   "cell_type": "code",
   "execution_count": null,
   "metadata": {},
   "outputs": [
    {
     "data": {
      "image/png": "[encoded data removed]",
      "text/plain": [
       "<Figure size 360x360 with 1 Axes>"
      ]
     },
     "metadata": {
      "needs_background": "light"
     },
     "output_type": "display_data"
    }
   ],
   "source": [
    "#plotting\n",
    "\n",
    "fig, ax = plt.subplots(figsize=(5,5))  \n",
    "\n",
    "#graph formatting\n",
    "ax.set_xlabel(\"Fractal size / logarithmic\", fontsize=15)\n",
    "ax.set_ylabel(\"Particle count / logarithmic\", fontsize=15)\n",
    "plt.xticks(fontsize=14)                 \n",
    "plt.yticks(fontsize=14) \n",
    "plt.tick_params(axis='both', which='both', direction='in', top=True, right=True) \n",
    "    \n",
    "ax.errorbar(threeK_log_clusterSize, threeK_log_numParticles, yerr=None, xerr=threeK_errors, color='blue')\n",
    "\n",
    "#ax.errorbar(oneK_log_raddii, oneK_log_numParticles, yerr=None, xerr=oneK_errors, color='red')\n",
    "\n",
    "plt.show()"
   ]
  },
  {
   "cell_type": "code",
   "execution_count": null,
   "metadata": {},
   "outputs": [],
   "source": [
    "#now want to calculate fractal dimension for different clusterSizes\n",
    "\n"
   ]
  }
 ],
 "metadata": {
  "kernelspec": {
   "display_name": "base",
   "language": "python",
   "name": "python3"
  },
  "language_info": {
   "codemirror_mode": {
    "name": "ipython",
    "version": 3
   },
   "file_extension": ".py",
   "mimetype": "text/x-python",
   "name": "python",
   "nbconvert_exporter": "python",
   "pygments_lexer": "ipython3",
   "version": "3.9.7"
  }
 },
 "nbformat": 4,
 "nbformat_minor": 2
}
