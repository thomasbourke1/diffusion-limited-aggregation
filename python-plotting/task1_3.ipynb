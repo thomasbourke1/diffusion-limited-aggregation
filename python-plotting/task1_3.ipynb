{
 "cells": [
  {
   "cell_type": "code",
   "execution_count": 1,
   "metadata": {},
   "outputs": [
    {
     "name": "stderr",
     "output_type": "stream",
     "text": [
      "/Users/thomasbourke/opt/anaconda3/lib/python3.9/site-packages/scipy/__init__.py:146: UserWarning: A NumPy version >=1.16.5 and <1.23.0 is required for this version of SciPy (detected version 1.26.1\n",
      "  warnings.warn(f\"A NumPy version >={np_minversion} and <{np_maxversion}\"\n"
     ]
    }
   ],
   "source": [
    "import numpy as np\n",
    "import matplotlib.pyplot as plt\n",
    "import pandas as pd\n",
    "from scipy.optimize import curve_fit\n",
    "import csv"
   ]
  },
  {
   "cell_type": "code",
   "execution_count": 2,
   "metadata": {},
   "outputs": [],
   "source": [
    "#read in data\n",
    "threeK_fractal_data = pd.DataFrame(pd.read_csv(\"data/3000_particles.csv\", dtype=np.float64))\n",
    "\n",
    "oneK_fractal_data = pd.DataFrame(pd.read_csv(\"data/1000endNum.csv\", dtype=np.float64))\n",
    "\n",
    "def fractal_sorter(fractal_data):\n",
    "    #convert each set of data to numpy array\n",
    "    rawNumParticles = fractal_data.numParticles.to_numpy()\n",
    "    rawClusterRadius = fractal_data.clusterRadius.to_numpy()\n",
    "\n",
    "\n",
    "    #array of indexes of where a new fractal starts\n",
    "    sliceNum = 10\n",
    "    where_isTen = np.where(rawNumParticles == sliceNum)\n",
    "\n",
    "    #initialise empty array to store each fractal\n",
    "    previousIndex = 0\n",
    "    slicedNumParticles = []\n",
    "    slicedClusterRadius = []\n",
    "\n",
    "    #slices fractal data up\n",
    "    for i in where_isTen[0]:\n",
    "\n",
    "        temp_numParticles = rawNumParticles[previousIndex: i]\n",
    "        temp_ClusterRadius = rawClusterRadius[previousIndex: i]\n",
    "        \n",
    "        slicedNumParticles.append(temp_numParticles)\n",
    "        slicedClusterRadius.append(temp_ClusterRadius)\n",
    "\n",
    "        previousIndex = i\n",
    "        \n",
    "    #appends final fractal data\n",
    "    slicedNumParticles.append(rawNumParticles[previousIndex:])\n",
    "    slicedClusterRadius.append(rawClusterRadius[previousIndex:])\n",
    "\n",
    "    #gets rid of 0th row that was empty\n",
    "    slicedNumParticles = slicedNumParticles[1:]\n",
    "    slicedClusterRadius = slicedClusterRadius[1:]\n",
    "    \n",
    "    return slicedNumParticles, slicedClusterRadius\n"
   ]
  },
  {
   "cell_type": "code",
   "execution_count": 3,
   "metadata": {},
   "outputs": [],
   "source": [
    "#find average cluster radius at each particle number\n",
    "\n",
    "def getAverage(particleList, radiusList):\n",
    "    numFractals = len(particleList)\n",
    "    numValues = len(radiusList[0])\n",
    "    meanSizes = np.zeros(numValues)\n",
    "    meanSquareSizes = np.zeros(numValues)\n",
    "    SizeErrors = np.zeros(numValues)\n",
    "    ln_errors = []\n",
    "    \n",
    "    #calculates average clusterRadius\n",
    "    for i in range(numFractals):\n",
    "        for j in range(numValues):\n",
    "            meanSizes[j] += radiusList[i][j]/numFractals\n",
    "            meanSquareSizes[j] += (radiusList[i][j]**2)/numFractals\n",
    "\n",
    "    for k in range(numValues):\n",
    "        SizeErrors[k] += (1/np.sqrt(numFractals-1)) * np.sqrt(meanSquareSizes[k] - meanSizes[k]**2)\n",
    "        #print(SizeErrors[k])\n",
    "        \n",
    "    for l in range(numValues):\n",
    "        ln_errors.append(SizeErrors[l] / meanSizes[l])\n",
    "            \n",
    "    return meanSizes, ln_errors\n"
   ]
  },
  {
   "cell_type": "code",
   "execution_count": 4,
   "metadata": {},
   "outputs": [],
   "source": [
    "#process 3000 particle fractals\n",
    "\n",
    "threeK_numParticles = fractal_sorter(threeK_fractal_data)[0]\n",
    "threeK_clusterRadius = fractal_sorter(threeK_fractal_data)[1]\n",
    "threeK_meanClusterSize = getAverage(threeK_numParticles, threeK_clusterRadius)[0]\n",
    "\n",
    "threeK_log_clusterSize = np.log(threeK_meanClusterSize)\n",
    "threeK_log_numParticles = np.log(threeK_numParticles)[0]\n",
    "threeK_errors = getAverage(threeK_numParticles, threeK_clusterRadius)[1]\n",
    "\n",
    "#process 2000 particle fractals\n",
    "\n",
    "#process 1000 particle fractals\n",
    "oneK_numParticles = fractal_sorter(oneK_fractal_data)[0]\n",
    "oneK_clusterRadius = fractal_sorter(oneK_fractal_data)[1]\n",
    "oneK_meanClusterSize = getAverage(oneK_numParticles, oneK_clusterRadius)[0]\n",
    "\n",
    "oneK_log_clusterSize = np.log(oneK_meanClusterSize)\n",
    "oneK_log_numParticles = np.log(oneK_numParticles)[0]\n",
    "oneK_errors = getAverage(oneK_numParticles, oneK_clusterRadius)[1]"
   ]
  },
  {
   "cell_type": "code",
   "execution_count": 5,
   "metadata": {},
   "outputs": [],
   "source": [
    "#function to calculate fractal dimension fd\n",
    "\n",
    "def best_fit(x, slope , intercept):\n",
    "    return slope*x + intercept\n",
    "\n",
    "def getFracalDim(ln_numParticles, ln_clusterSize):\n",
    "    \n",
    "    popt, pcov = curve_fit(best_fit, ln_clusterSize, ln_numParticles)\n",
    "    fd = popt[0]   \n",
    "    fd_err = np.sqrt(np.diag(pcov))[0]\n",
    "    \n",
    "    return fd, fd_err\n",
    "    \n",
    "    \n",
    "def getFractalDim_nth(numParticles, clusterSize, N):\n",
    "    tempSizes, tempNums = [], []\n",
    "    \n",
    "    if N ==0:\n",
    "        N = 1\n",
    "        \n",
    "  #  print(f\"N = {N}\")\n",
    "    \n",
    "    for i in range (len(numParticles)):\n",
    "        cutOffIndex = np.where(numParticles[i] == N)[0][0]\n",
    "       # print(f\"cutoff index = {cutOffIndex}\")\n",
    "        tempSizes.append(clusterSize[0:cutOffIndex+1])\n",
    "        tempNums.append(numParticles[0][0:cutOffIndex+1])\n",
    "     \n",
    "    tempSizes = tempSizes[0]\n",
    "    tempNums = tempNums[0]\n",
    "    \n",
    "    #now calculate fractal dim\n",
    "    fd = getFracalDim(np.log(tempNums), np.log(tempSizes))[0]\n",
    "    fd_err = getFracalDim(np.log(tempNums), np.log(tempSizes))[1]\n",
    "    \n",
    "    return fd, fd_err"
   ]
  },
  {
   "cell_type": "code",
   "execution_count": 6,
   "metadata": {},
   "outputs": [
    {
     "data": {
      "text/plain": [
       "(1.4663412300149556, 0.14491386545205795)"
      ]
     },
     "execution_count": 6,
     "metadata": {},
     "output_type": "execute_result"
    }
   ],
   "source": [
    "getFractalDim_nth(threeK_numParticles, threeK_meanClusterSize, 30)\n",
    "#only works from size 30 upwards?"
   ]
  },
  {
   "cell_type": "code",
   "execution_count": 7,
   "metadata": {},
   "outputs": [
    {
     "data": {
      "text/plain": [
       "3000.0"
      ]
     },
     "execution_count": 7,
     "metadata": {},
     "output_type": "execute_result"
    }
   ],
   "source": [
    "max(threeK_numParticles[0])"
   ]
  },
  {
   "cell_type": "code",
   "execution_count": 8,
   "metadata": {},
   "outputs": [],
   "source": [
    "k = 10\n",
    "fd, fd_err, count = [], [], []\n",
    "\n",
    "#while k <= np.max(threeK_numParticles[0]):\n",
    " #   temp_fd = getFractalDim_nth(threeK_numParticles, threeK_meanClusterSize, k)[0]\n",
    "  #  fd.append()\n",
    " #   print(f\"temp fractal dim = {temp_fd}\")\n",
    "  #  k += 10\n",
    "\n",
    "while k <= len(threeK_numParticles[0]):\n",
    "    l = k*10\n",
    "    temp_fd, temp_fd_err = getFractalDim_nth(threeK_numParticles, threeK_meanClusterSize, l)\n",
    "    \n",
    "    fd.append(temp_fd)\n",
    "    fd_err.append(temp_fd_err)\n",
    "    count.append(l)\n",
    "    \n",
    "   # print(f\"temp fractal dim = {temp_fd}\")\n",
    "    k += 10\n",
    "    #k += 10\n",
    "\n",
    "#for k in range(len(threeK_numParticles[0])):\n",
    "    \n",
    " #   fd, fd_err, count = [], [], []\n",
    "  #  l=10*k\n",
    "    \n",
    "   # temp_fd = getFractalDim_nth(threeK_numParticles, threeK_meanClusterSize, l)[0]"
   ]
  },
  {
   "cell_type": "code",
   "execution_count": 9,
   "metadata": {},
   "outputs": [
    {
     "data": {
      "image/png": "[encoded data removed]",
      "text/plain": [
       "<Figure size 360x360 with 1 Axes>"
      ]
     },
     "metadata": {
      "needs_background": "light"
     },
     "output_type": "display_data"
    }
   ],
   "source": [
    "fig, ax = plt.subplots(figsize=(5,5))\n",
    "\n",
    "ax.set_xlabel(\"$N_c$\", fontsize=15)\n",
    "ax.set_ylabel(\"$f_d$\", fontsize=15)\n",
    "plt.xticks(fontsize=14)                 \n",
    "plt.yticks(fontsize=14) \n",
    "plt.tick_params(axis='both', which='both', direction='in', top=True, right=True) \n",
    "\n",
    "ax.errorbar((count), fd, fd_err, color='blue', fmt='o', ecolor='blue', capsize=5)\n",
    "#ax.set_xlim(30, 3000)\n",
    "\n",
    "plt.savefig('figures/fracal_dim.png')\n",
    "plt.show()\n"
   ]
  },
  {
   "cell_type": "code",
   "execution_count": 10,
   "metadata": {},
   "outputs": [],
   "source": [
    "#create line of best fits to calculate gradient\n",
    "def best_fit(x, slope , intercept):\n",
    "    return slope*x + intercept"
   ]
  },
  {
   "cell_type": "code",
   "execution_count": 12,
   "metadata": {},
   "outputs": [
    {
     "name": "stdout",
     "output_type": "stream",
     "text": [
      "Fractal dimension = 1.678896367851841±0.004169735049346369\n"
     ]
    },
    {
     "data": {
      "image/png": "[encoded data removed]",
      "text/plain": [
       "<Figure size 288x288 with 1 Axes>"
      ]
     },
     "metadata": {
      "needs_background": "light"
     },
     "output_type": "display_data"
    }
   ],
   "source": [
    "#plotting\n",
    "\n",
    "fig, ax = plt.subplots(figsize=(4,4))  \n",
    "\n",
    "font = 17\n",
    "\n",
    "#graph formatting\n",
    "#ax.set_xlabel(\"Fractal size / logarithmic\", fontsize=font)\n",
    "#ax.set_ylabel(\"Particle count / logarithmic\", fontsize=font)\n",
    "\n",
    "ax.set_xlabel(\"$ln(R)$\", fontsize=font)\n",
    "ax.set_ylabel(\"$ln(N_C)$\", fontsize=font)\n",
    "\n",
    "plt.xticks(fontsize=font)                 \n",
    "plt.yticks(fontsize=font) \n",
    "plt.tick_params(axis='both', which='both', direction='in', top=True, right=True) \n",
    "\n",
    "#calculating fractal dimension\n",
    "popt, pcov = curve_fit(best_fit, threeK_log_clusterSize, threeK_log_numParticles)\n",
    "fracdim = popt[0]    \n",
    "fracdim_err = np.sqrt(np.diag(pcov))[0]\n",
    "\n",
    "print(f\"Fractal dimension = {fracdim}±{fracdim_err}\")\n",
    "\n",
    "ax.errorbar(threeK_log_clusterSize, threeK_log_numParticles, yerr=None, xerr=threeK_errors, color='blue', linestyle='', capsize=5)\n",
    "\n",
    "#ax.errorbar(oneK_log_raddii, oneK_log_numParticles, yerr=None, xerr=oneK_errors, color='red')\n",
    "plt.savefig('figures/loglog.png')\n",
    "plt.show()"
   ]
  },
  {
   "cell_type": "code",
   "execution_count": 13,
   "metadata": {},
   "outputs": [],
   "source": [
    "#now want to calculate fractal dimension for different clusterSizes\n",
    "\n"
   ]
  }
 ],
 "metadata": {
  "kernelspec": {
   "display_name": "base",
   "language": "python",
   "name": "python3"
  },
  "language_info": {
   "codemirror_mode": {
    "name": "ipython",
    "version": 3
   },
   "file_extension": ".py",
   "mimetype": "text/x-python",
   "name": "python",
   "nbconvert_exporter": "python",
   "pygments_lexer": "ipython3",
   "version": "3.9.7"
  }
 },
 "nbformat": 4,
 "nbformat_minor": 2
}
