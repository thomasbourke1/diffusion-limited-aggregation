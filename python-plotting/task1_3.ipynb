{
 "cells": [
  {
   "cell_type": "code",
   "execution_count": 3,
   "metadata": {},
   "outputs": [
    {
     "name": "stderr",
     "output_type": "stream",
     "text": [
      "/Users/thomasbourke/opt/anaconda3/lib/python3.9/site-packages/scipy/__init__.py:146: UserWarning: A NumPy version >=1.16.5 and <1.23.0 is required for this version of SciPy (detected version 1.26.1\n",
      "  warnings.warn(f\"A NumPy version >={np_minversion} and <{np_maxversion}\"\n"
     ]
    }
   ],
   "source": [
    "import numpy as np\n",
    "import matplotlib.pyplot as plt\n",
    "import pandas as pd\n",
    "from scipy.optimize import curve_fit\n",
    "import csv"
   ]
  },
  {
   "cell_type": "code",
   "execution_count": 4,
   "metadata": {},
   "outputs": [],
   "source": [
    "#read in data\n",
    "threeK_fractal_data = pd.DataFrame(pd.read_csv(\"data/3000_particles.csv\", dtype=np.float64))\n",
    "\n",
    "oneK_fractal_data = pd.DataFrame(pd.read_csv(\"data/1000endNum.csv\", dtype=np.float64))\n",
    "\n",
    "def fractal_sorter(fractal_data):\n",
    "    #convert each set of data to numpy array\n",
    "    rawNumParticles = fractal_data.numParticles.to_numpy()\n",
    "    rawClusterRadius = fractal_data.clusterRadius.to_numpy()\n",
    "\n",
    "\n",
    "    #array of indexes of where a new fractal starts\n",
    "    sliceNum = 10\n",
    "    where_isTen = np.where(rawNumParticles == sliceNum)\n",
    "\n",
    "    #initialise empty array to store each fractal\n",
    "    previousIndex = 0\n",
    "    slicedNumParticles = []\n",
    "    slicedClusterRadius = []\n",
    "\n",
    "    #slices fractal data up\n",
    "    for i in where_isTen[0]:\n",
    "\n",
    "        temp_numParticles = rawNumParticles[previousIndex: i]\n",
    "        temp_ClusterRadius = rawClusterRadius[previousIndex: i]\n",
    "        \n",
    "        slicedNumParticles.append(temp_numParticles)\n",
    "        slicedClusterRadius.append(temp_ClusterRadius)\n",
    "\n",
    "        previousIndex = i\n",
    "        \n",
    "    #appends final fractal data\n",
    "    slicedNumParticles.append(rawNumParticles[previousIndex:])\n",
    "    slicedClusterRadius.append(rawClusterRadius[previousIndex:])\n",
    "\n",
    "    #gets rid of 0th row that was empty\n",
    "    slicedNumParticles = slicedNumParticles[1:]\n",
    "    slicedClusterRadius = slicedClusterRadius[1:]\n",
    "    \n",
    "    return slicedNumParticles, slicedClusterRadius\n"
   ]
  },
  {
   "cell_type": "code",
   "execution_count": 5,
   "metadata": {},
   "outputs": [],
   "source": [
    "#find average cluster radius at each particle number\n",
    "\n",
    "def getAverage(particleList, radiusList):\n",
    "    numFractals = len(particleList)\n",
    "    numValues = len(radiusList[0])\n",
    "    meanSizes = np.zeros(numValues)\n",
    "    meanSquareSizes = np.zeros(numValues)\n",
    "    SizeErrors = np.zeros(numValues)\n",
    "    ln_errors = []\n",
    "    \n",
    "    #calculates average clusterRadius\n",
    "    for i in range(numFractals):\n",
    "        for j in range(numValues):\n",
    "            meanSizes[j] += radiusList[i][j]/numFractals\n",
    "            meanSquareSizes[j] += (radiusList[i][j]**2)/numFractals\n",
    "\n",
    "    for k in range(numValues):\n",
    "        SizeErrors[k] += (1/np.sqrt(numFractals-1)) * np.sqrt(meanSquareSizes[k] - meanSizes[k]**2)\n",
    "        #print(SizeErrors[k])\n",
    "        \n",
    "    for l in range(numValues):\n",
    "        ln_errors.append(SizeErrors[l] / meanSizes[l])\n",
    "            \n",
    "    return meanSizes, ln_errors\n"
   ]
  },
  {
   "cell_type": "code",
   "execution_count": 6,
   "metadata": {},
   "outputs": [],
   "source": [
    "#process 3000 particle fractals\n",
    "\n",
    "threeK_numParticles = fractal_sorter(threeK_fractal_data)[0]\n",
    "threeK_clusterRadius = fractal_sorter(threeK_fractal_data)[1]\n",
    "threeK_meanClusterSize = getAverage(threeK_numParticles, threeK_clusterRadius)[0]\n",
    "\n",
    "threeK_log_clusterSize = np.log(threeK_meanClusterSize)\n",
    "threeK_log_numParticles = np.log(threeK_numParticles)[0]\n",
    "threeK_errors = getAverage(threeK_numParticles, threeK_clusterRadius)[1]\n",
    "\n",
    "#process 2000 particle fractals\n",
    "\n",
    "#process 1000 particle fractals\n",
    "oneK_numParticles = fractal_sorter(oneK_fractal_data)[0]\n",
    "oneK_clusterRadius = fractal_sorter(oneK_fractal_data)[1]\n",
    "oneK_meanClusterSize = getAverage(oneK_numParticles, oneK_clusterRadius)[0]\n",
    "\n",
    "oneK_log_clusterSize = np.log(oneK_meanClusterSize)\n",
    "oneK_log_numParticles = np.log(oneK_numParticles)[0]\n",
    "oneK_errors = getAverage(oneK_numParticles, oneK_clusterRadius)[1]"
   ]
  },
  {
   "cell_type": "code",
   "execution_count": 7,
   "metadata": {},
   "outputs": [],
   "source": [
    "#function to calculate fractal dimension fd\n",
    "\n",
    "def best_fit(x, slope , intercept):\n",
    "    return slope*x + intercept\n",
    "\n",
    "def getFracalDim(ln_numParticles, ln_clusterSize):\n",
    "    \n",
    "    popt, pcov = curve_fit(best_fit, ln_clusterSize, ln_numParticles)\n",
    "    fd = popt[0]   \n",
    "    fd_err = np.sqrt(np.diag(pcov))[0]\n",
    "    \n",
    "    return fd, fd_err\n",
    "    \n",
    "\n"
   ]
  },
  {
   "cell_type": "code",
   "execution_count": 9,
   "metadata": {},
   "outputs": [
    {
     "data": {
      "text/plain": [
       "(1.5954864910123518, 0.0063764383016186345)"
      ]
     },
     "execution_count": 9,
     "metadata": {},
     "output_type": "execute_result"
    }
   ],
   "source": [
    "getFracalDim(oneK_log_numParticles, oneK_log_clusterSize)"
   ]
  },
  {
   "cell_type": "code",
   "execution_count": null,
   "metadata": {},
   "outputs": [
    {
     "data": {
      "image/png": "[encoded data removed]",
      "text/plain": [
       "<Figure size 360x360 with 1 Axes>"
      ]
     },
     "metadata": {
      "needs_background": "light"
     },
     "output_type": "display_data"
    }
   ],
   "source": [
    "#plotting\n",
    "\n",
    "fig, ax = plt.subplots(figsize=(5,5))  \n",
    "\n",
    "#graph formatting\n",
    "ax.set_xlabel(\"Fractal size / logarithmic\", fontsize=15)\n",
    "ax.set_ylabel(\"Particle count / logarithmic\", fontsize=15)\n",
    "plt.xticks(fontsize=14)                 \n",
    "plt.yticks(fontsize=14) \n",
    "plt.tick_params(axis='both', which='both', direction='in', top=True, right=True) \n",
    "    \n",
    "ax.errorbar(threeK_log_raddii, threeK_log_numParticles, yerr=None, xerr=threeK_errors, color='blue')\n",
    "\n",
    "#ax.errorbar(oneK_log_raddii, oneK_log_numParticles, yerr=None, xerr=oneK_errors, color='red')\n",
    "\n",
    "plt.show()"
   ]
  }
 ],
 "metadata": {
  "kernelspec": {
   "display_name": "base",
   "language": "python",
   "name": "python3"
  },
  "language_info": {
   "codemirror_mode": {
    "name": "ipython",
    "version": 3
   },
   "file_extension": ".py",
   "mimetype": "text/x-python",
   "name": "python",
   "nbconvert_exporter": "python",
   "pygments_lexer": "ipython3",
   "version": "3.9.7"
  }
 },
 "nbformat": 4,
 "nbformat_minor": 2
}
