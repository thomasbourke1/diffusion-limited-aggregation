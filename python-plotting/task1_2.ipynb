{
 "cells": [
  {
   "cell_type": "code",
   "execution_count": 149,
   "metadata": {},
   "outputs": [],
   "source": [
    "import numpy as np\n",
    "import matplotlib.pyplot as plt\n",
    "import pandas as pd\n",
    "from scipy.optimize import curve_fit\n",
    "import csv"
   ]
  },
  {
   "cell_type": "code",
   "execution_count": 156,
   "metadata": {},
   "outputs": [],
   "source": [
    "#seperate data from each fractal into its own run\n",
    "\n",
    "threeK_fractal_data = pd.DataFrame(pd.read_csv(\"data/3000_particles.csv\", dtype=np.float64))\n",
    "\n",
    "sliceNumber = 10\n",
    "numberOfFractals = 5\n",
    "\n",
    "#array of indexes of where a new fractal starts\n",
    "where_isTen = np.where(threeK_fractal_data['numParticles'] == sliceNumber)[0]\n",
    "\n",
    "\n",
    "previousIndex = 0\n",
    "setofFractals = []\n",
    "\n",
    "for i in where_isTen:\n",
    "    \n",
    "    temp = threeK_fractal_data[: i]\n",
    "        \n",
    "    setofFractals.append(temp)\n",
    "    previousIndex = i\n",
    "\n",
    "#appends final fractal data\n",
    "setofFractals.append(threeK_fractal_data[previousIndex:])\n",
    "\n",
    "#gets rid of 0th row that was empty\n",
    "setofFractals = setofFractals[1:]   "
   ]
  },
  {
   "cell_type": "code",
   "execution_count": null,
   "metadata": {},
   "outputs": [],
   "source": [
    "#want to take average of data over different fractals\n",
    "\n",
    "def getAverage(setofFractals):\n",
    "    numberOfFractals = len(setofFractals)\n",
    "    numberOfValues = len(setofFractals[0])\n",
    "    averageClusterRadius = np.zeros(numberOfValues)\n",
    "    \n",
    "    for i in range"
   ]
  },
  {
   "cell_type": "code",
   "execution_count": 155,
   "metadata": {},
   "outputs": [
    {
     "data": {
      "image/png": "[encoded data removed]",
      "text/plain": [
       "<Figure size 360x360 with 1 Axes>"
      ]
     },
     "metadata": {
      "needs_background": "light"
     },
     "output_type": "display_data"
    }
   ],
   "source": [
    "#plot data\n",
    "\n",
    "fig, ax = plt.subplots(figsize=(5,5))  \n",
    "\n",
    "colors = [\"red\", \"orange\", \"black\", \"green\", \"blue\", \"indigo\", \"violet\", \"cyan\", \"magenta\", \"purple\"]\n",
    "\n",
    "\n",
    "i=0\n",
    "while i < numberOfFractals:\n",
    "    ax.plot(setofFractals[i]['numParticles'], setofFractals[i]['clusterRadius'], ls='', marker='o', markersize='2', markerfacecolor=colors[i])\n",
    "    i = i+1\n",
    "    \n",
    "plt.show()"
   ]
  },
  {
   "cell_type": "code",
   "execution_count": null,
   "metadata": {},
   "outputs": [],
   "source": []
  }
 ],
 "metadata": {
  "kernelspec": {
   "display_name": "base",
   "language": "python",
   "name": "python3"
  },
  "language_info": {
   "codemirror_mode": {
    "name": "ipython",
    "version": 3
   },
   "file_extension": ".py",
   "mimetype": "text/x-python",
   "name": "python",
   "nbconvert_exporter": "python",
   "pygments_lexer": "ipython3",
   "version": "3.9.7"
  }
 },
 "nbformat": 4,
 "nbformat_minor": 2
}
